{
 "cells": [
  {
   "cell_type": "code",
   "execution_count": 0,
   "metadata": {
    "application/vnd.databricks.v1+cell": {
     "cellMetadata": {
      "byteLimit": 10485760,
      "rowLimit": 1000
     },
     "inputWidgets": {},
     "nuid": "6a2b3b1c-0378-49c6-801a-87be1c5b55f7",
     "showTitle": false,
     "tableResultSettingsMap": {},
     "title": ""
    }
   },
   "outputs": [
    {
     "output_type": "display_data",
     "data": {
      "text/plain": [
       "Databricks visualization. Run in Databricks to view."
      ]
     },
     "metadata": {
      "application/vnd.databricks.v1.subcommand+json": {
       "baseErrorDetails": null,
       "bindings": {},
       "collapsed": false,
       "command": "%sql WITH q AS (SELECT \n    * \n  FROM \n    gshen_eia_catalog.eia_bronze.customer_reviews) SELECT `review_sentiment`,COUNT(*) `column_19be32d6540`,`improvement_category` FROM q GROUP BY `improvement_category`,`review_sentiment`",
       "commandTitle": "Visualization 1",
       "commandType": "auto",
       "commandVersion": 0,
       "commentThread": [],
       "commentsVisible": false,
       "contentSha256Hex": null,
       "customPlotOptions": {
        "redashChart": [
         {
          "key": "type",
          "value": "CHART"
         },
         {
          "key": "options",
          "value": {
           "alignYAxesAtZero": true,
           "coefficient": 1,
           "columnConfigurationMap": {
            "series": {
             "column": "improvement_category",
             "id": "column_19be32d6542"
            },
            "x": {
             "column": "review_sentiment",
             "id": "column_19be32d6539"
            },
            "y": [
             {
              "column": "*",
              "id": "column_19be32d6540",
              "transform": "COUNT"
             }
            ]
           },
           "dateTimeFormat": "DD/MM/YYYY HH:mm",
           "direction": {
            "type": "counterclockwise"
           },
           "error_y": {
            "type": "data",
            "visible": true
           },
           "globalSeriesType": "pie",
           "isAggregationOn": true,
           "legend": {
            "traceorder": "normal"
           },
           "missingValuesAsZero": true,
           "numberFormat": "0,0.[00000]",
           "percentFormat": "0[.]00%",
           "series": {
            "error_y": {
             "type": "data",
             "visible": true
            },
            "stacking": null
           },
           "seriesOptions": {
            "column_19be32d6540": {
             "type": "pie",
             "yAxis": 0
            }
           },
           "showDataLabels": true,
           "sizemode": "diameter",
           "sortX": true,
           "sortY": true,
           "swappedAxes": false,
           "textFormat": "",
           "useAggregationsUi": true,
           "valuesOptions": {},
           "version": 2,
           "xAxis": {
            "labels": {
             "enabled": true
            },
            "type": "-"
           },
           "yAxis": [
            {
             "type": "-"
            },
            {
             "opposite": true,
             "type": "-"
            }
           ]
          }
         }
        ]
       },
       "datasetPreviewNameToCmdIdMap": {},
       "diffDeletes": [],
       "diffInserts": [],
       "displayType": "redashChart",
       "error": null,
       "errorDetails": null,
       "errorSummary": null,
       "errorTraceType": null,
       "finishTime": 0,
       "globalVars": {},
       "guid": "",
       "height": "auto",
       "hideCommandCode": false,
       "hideCommandResult": false,
       "iPythonMetadata": null,
       "inputWidgets": {},
       "isLockedInExamMode": false,
       "latestUser": "a user",
       "latestUserId": null,
       "listResultMetadata": null,
       "metadata": {},
       "nuid": "16ca377f-8c1e-44e9-9729-cf2b8d6a95c3",
       "origId": 0,
       "parentHierarchy": [],
       "pivotAggregation": null,
       "pivotColumns": null,
       "position": 2.0,
       "resultDbfsErrorMessage": null,
       "resultDbfsStatus": "INLINED_IN_TREE",
       "results": null,
       "showCommandTitle": false,
       "startTime": 0,
       "state": "input",
       "streamStates": {},
       "subcommandOptions": {
        "queryPlan": {
         "groups": [
          {
           "column": "review_sentiment",
           "type": "column"
          },
          {
           "column": "improvement_category",
           "type": "column"
          }
         ],
         "selects": [
          {
           "column": "review_sentiment",
           "type": "column"
          },
          {
           "alias": "column_19be32d6540",
           "args": [
            {
             "column": "*",
             "type": "column"
            }
           ],
           "function": "COUNT",
           "type": "function"
          },
          {
           "column": "improvement_category",
           "type": "column"
          }
         ]
        }
       },
       "submitTime": 0,
       "subtype": "tableResultSubCmd.visualization",
       "tableResultIndex": 0,
       "tableResultSettingsMap": {},
       "useConsistentColors": false,
       "version": "CommandV1",
       "width": "auto",
       "workflows": null,
       "xColumns": null,
       "yColumns": null
      }
     },
     "output_type": "display_data"
    }
   ],
   "source": [
    "  -- Step 1: Retrieve all customer reviews from the bronze layer\n",
    "  SELECT \n",
    "    * \n",
    "  FROM \n",
    "    gshen_eia_catalog.eia_bronze.customer_reviews;\n",
    "\n",
    "\n",
    "  -- Step 2: Analyze sentiment of each review using AI\n",
    "  SELECT \n",
    "    *, \n",
    "    ai_analyze_sentiment(review) AS review_sentiment  -- Returns sentiment (e.g., positive, neutral, negative)\n",
    "  FROM \n",
    "    gshen_eia_catalog.eia_bronze.customer_reviews;\n",
    "\n",
    "\n",
    "  -- Step 3: Analyze sentiment and classify each review into an improvement category\n",
    "  SELECT\n",
    "    *, \n",
    "    ai_analyze_sentiment(review) AS review_sentiment,  -- Analyze review tone\n",
    "    ai_classify(\n",
    "      review, \n",
    "      ARRAY(\n",
    "        \"Food & Beverage\",\n",
    "        \"Signage & Wayfinding\",\n",
    "        \"Technology & Charging\",\n",
    "        \"Comfort & Seating\",\n",
    "        \"Ground Transportation\",\n",
    "        \"Cleanliness & Facilities\",\n",
    "        \"Baggage Handling\",\n",
    "        \"Customer Service\",\n",
    "        \"Accessibility & Inclusion\",\n",
    "        \"Amenities & Entertainment\"\n",
    "      )\n",
    "    ) AS improvement_category  -- Classify review into one or more thematic areas\n",
    "  FROM\n",
    "    gshen_eia_catalog.eia_bronze.customer_reviews;\n",
    "\n",
    "\n",
    "  -- Step 4: Analyze sentiment, classify category, and generate an AI-powered response to the reviewer\n",
    "  SELECT\n",
    "    *, \n",
    "    ai_analyze_sentiment(review) AS review_sentiment,  -- Sentiment analysis\n",
    "    ai_classify(\n",
    "      review, \n",
    "      ARRAY(\n",
    "        \"Food & Beverage\",\n",
    "        \"Signage & Wayfinding\",\n",
    "        \"Technology & Charging\",\n",
    "        \"Comfort & Seating\",\n",
    "        \"Ground Transportation\",\n",
    "        \"Cleanliness & Facilities\",\n",
    "        \"Baggage Handling\",\n",
    "        \"Customer Service\",\n",
    "        \"Accessibility & Inclusion\",\n",
    "        \"Amenities & Entertainment\"\n",
    "      )\n",
    "    ) AS improvement_category,  -- Thematic classification\n",
    "    ai_query(\n",
    "      \"databricks-meta-llama-3-3-70b-instruct\",\n",
    "      \"Write a professional and friendly response to thank the reviewer for their feedback. \"\n",
    "      || \"Acknowledge the sentiment and main points they raised, and offer appreciation or reassurance if necessary. \"\n",
    "      || \"Use a warm, respectful tone: \" \n",
    "      || review\n",
    "    ) AS review_response  -- Generate a personalized thank-you message\n",
    "  FROM\n",
    "    gshen_eia_catalog.eia_bronze.customer_reviews;\n",
    "\n",
    "  -- Step 5: Analyze sentiment, classify category, and generate an AI-powered response to the reviewer\n",
    "  CREATE OR REPLACE MATERIALIZED VIEW gshen_eia_catalog.eia_silver.customer_reviews_sentiment_classification AS\n",
    "  SELECT\n",
    "    *, \n",
    "    ai_analyze_sentiment(review) AS review_sentiment,  -- Sentiment analysis\n",
    "    ai_classify(\n",
    "      review, \n",
    "      ARRAY(\n",
    "        \"Food & Beverage\",\n",
    "        \"Signage & Wayfinding\",\n",
    "        \"Technology & Charging\",\n",
    "        \"Comfort & Seating\",\n",
    "        \"Ground Transportation\",\n",
    "        \"Cleanliness & Facilities\",\n",
    "        \"Baggage Handling\",\n",
    "        \"Customer Service\",\n",
    "        \"Accessibility & Inclusion\",\n",
    "        \"Amenities & Entertainment\"\n",
    "      )\n",
    "    ) AS improvement_category,  -- Thematic classification\n",
    "    ai_query(\n",
    "      \"databricks-meta-llama-3-3-70b-instruct\",\n",
    "      \"Write a professional and friendly response to thank the reviewer for their feedback. \"\n",
    "      || \"Acknowledge the sentiment and main points they raised, and offer appreciation or reassurance if necessary. \"\n",
    "      || \"Use a warm, respectful tone: \" \n",
    "      || review\n",
    "    ) AS review_response  -- Generate a personalized thank-you message\n",
    "  FROM\n",
    "    gshen_eia_catalog.eia_bronze.customer_reviews;\n"
   ]
  }
 ],
 "metadata": {
  "application/vnd.databricks.v1+notebook": {
   "computePreferences": null,
   "dashboards": [],
   "environmentMetadata": null,
   "inputWidgetPreferences": null,
   "language": "sql",
   "notebookMetadata": {
    "sqlQueryOptions": {
     "applyAutoLimit": true,
     "catalog": "main",
     "schema": "default"
    }
   },
   "notebookName": "Customer Reviews Examples.dbquery.ipynb",
   "widgets": {}
  },
  "language_info": {
   "name": "sql"
  }
 },
 "nbformat": 4,
 "nbformat_minor": 0
}
