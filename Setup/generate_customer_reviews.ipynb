{
 "cells": [
  {
   "cell_type": "code",
   "execution_count": 0,
   "metadata": {
    "application/vnd.databricks.v1+cell": {
     "cellMetadata": {
      "byteLimit": 2048000,
      "rowLimit": 10000
     },
     "inputWidgets": {},
     "nuid": "dccdba97-3379-41ee-8b15-009bb4ca4206",
     "showTitle": false,
     "tableResultSettingsMap": {},
     "title": ""
    }
   },
   "outputs": [],
   "source": [
    "from pyspark.sql import SparkSession\n",
    "from pyspark.sql.functions import lit\n",
    "from pyspark.sql.types import StructType, StructField, StringType\n",
    "\n",
    "# Sample 50 reviews\n",
    "reviews = [\n",
    "    \"YEG is one of the cleanest airports I've traveled through. Security screening was efficient, and the staff were both friendly and helpful. It’s clear the airport takes pride in its operations.\",\n",
    "    \"Loved it. Quick in and out.\",\n",
    "    \"The airport felt spacious and modern, with big windows that let in lots of natural light. The Indigenous art installations were a thoughtful cultural touch. Very welcoming.\",\n",
    "    \"CBSA officers were professional and moved the line quickly. One of the better customs experiences I've had in Canada.\",\n",
    "    \"Check-in was quick and the self-service kiosks were easy to use.\",\n",
    "    \"Flight was delayed, but the staff handled it well and kept us informed.\",\n",
    "    \"Super friendly staff, and I loved the little local gift shop near Gate 64. It made for a great last-minute souvenir stop.\",\n",
    "    \"Bathrooms were spotless even during a busy afternoon. Good job to the cleaning crew.\",\n",
    "    \"Food options are limited after 9 PM. Wish there were more late-night choices.\",\n",
    "    \"Had a long layover and really appreciated the quiet lounge area. Comfortable chairs, decent Wi-Fi, and good charging spots made the wait more bearable.\",\n",
    "    \"Parking was easy to navigate and reasonably priced. Shuttle to the terminal was on time and clean.\",\n",
    "    \"Great experience overall!\",\n",
    "    \"Flight info displays are clear and up to date, which really helps when juggling tight connections.\",\n",
    "    \"Wi-Fi worked most of the time, but it did drop for a few minutes while I was trying to download a presentation. Not a dealbreaker, just mildly annoying.\",\n",
    "    \"Loved seeing local musicians performing in the terminal—it added a warm, community feel to the travel experience.\",\n",
    "    \"Security line was practically non-existent. I was through in under five minutes!\",\n",
    "    \"I wish there were more vegetarian options in the food court. Ended up with a granola bar.\",\n",
    "    \"My baggage came out quickly and without damage. That’s all I ask for!\",\n",
    "    \"Nice airport. Efficient and clean. Nothing extraordinary, but nothing to complain about either.\",\n",
    "    \"Had a bit of trouble finding my gate. The signage could be improved near the central hallways.\",\n",
    "    \"The airport was quiet, staff were courteous, and the entire process—from check-in to boarding—was seamless.\",\n",
    "    \"I like how compact the terminal is. You’re never too far from your gate, which helps a lot when you're running late.\",\n",
    "    \"Snowstorm outside, but you’d never know it inside. Warm, calm, and organized.\",\n",
    "    \"Took a while for taxis to show up, but the designated pickup zone was well marked.\",\n",
    "    \"Starbucks line was huge. Maybe time to open another coffee spot?\",\n",
    "    \"One of the most pleasant airport experiences I’ve had in Canada. Easy to get in and out.\",\n",
    "    \"The boarding process was smooth and staff made clear announcements, even in both English and French.\",\n",
    "    \"Really appreciate the free luggage carts. Not all airports offer that anymore.\",\n",
    "    \"Great airport if you're traveling with kids—play areas were a hit with my little ones.\",\n",
    "    \"Some areas are starting to feel a bit outdated, especially near domestic arrivals. Could use a refresh.\",\n",
    "    \"CBSA officer was super polite. Felt like a warm welcome back to Canada.\",\n",
    "    \"I flew in late at night and was relieved to see the airport still had staff around to help with directions and ground transport.\",\n",
    "    \"Duty-free store had a great selection of local and international products. Picked up some maple whiskey to take home.\",\n",
    "    \"Not much to do during a long layover, but it’s clean and quiet enough to read or nap.\",\n",
    "    \"Overall, a solid airport experience. Nothing flashy, but everything works as it should.\",\n",
    "    \"Check-in, customs, and boarding all took under 40 minutes. Can’t ask for more than that.\",\n",
    "    \"Nice ambient music and lots of natural light made it feel less like an airport and more like a calm transit hub.\",\n",
    "    \"Lost my phone in the terminal and the staff actually helped me find it. Huge shoutout to the customer service team.\",\n",
    "    \"Clean bathrooms, short lines, good signage. A+\",\n",
    "    \"Could use more USB charging stations. I had to sit on the floor next to a wall plug.\",\n",
    "    \"Arrival area was a little crowded, but baggage still came out quickly.\",\n",
    "    \"Boarding process for my WestJet flight was a bit disorganized, but we still left on time.\",\n",
    "    \"Had a great first impression of Edmonton thanks to YEG. Everyone was super friendly, from ground crew to customs agents.\",\n",
    "    \"Love the artwork and wide hallways. Feels modern but still cozy somehow.\",\n",
    "    \"Seating near the gates was a bit tight during peak hours. More chairs would help.\",\n",
    "    \"Took my parents through YEG and staff were extremely kind and accommodating with their wheelchair needs.\",\n",
    "    \"Bit of a walk from gate to exit, but at least the signage is clear and there are moving walkways.\",\n",
    "    \"Everything was clean, quiet, and well-managed. Travel can be stressful but YEG helped reduce that.\",\n",
    "    \"Long wait at baggage claim was frustrating after a long flight, but I appreciated the frequent updates on the screen.\",\n",
    "    \"I’d absolutely fly through YEG again. One of the better Canadian airports in my opinion.\"\n",
    "]\n",
    "\n",
    "schema = StructType([\n",
    "    StructField(\"review\", StringType(), True)\n",
    "])\n",
    "\n",
    "reviews_df = spark.createDataFrame([(r,) for r in reviews], schema)\n",
    "display(reviews_df)"
   ]
  },
  {
   "cell_type": "code",
   "execution_count": 0,
   "metadata": {
    "application/vnd.databricks.v1+cell": {
     "cellMetadata": {
      "byteLimit": 2048000,
      "rowLimit": 10000
     },
     "inputWidgets": {},
     "nuid": "c083286e-61f9-4ece-8b68-b3aa185a1dd4",
     "showTitle": false,
     "tableResultSettingsMap": {},
     "title": ""
    }
   },
   "outputs": [],
   "source": [
    "reviews_df.write.saveAsTable(\"gshen_eia_catalog.eia_bronze.customer_reviews\")"
   ]
  },
  {
   "cell_type": "code",
   "execution_count": 0,
   "metadata": {
    "application/vnd.databricks.v1+cell": {
     "cellMetadata": {},
     "inputWidgets": {},
     "nuid": "e1495a03-14d7-4d34-b229-d0201d976306",
     "showTitle": false,
     "tableResultSettingsMap": {},
     "title": ""
    }
   },
   "outputs": [],
   "source": []
  }
 ],
 "metadata": {
  "application/vnd.databricks.v1+notebook": {
   "computePreferences": null,
   "dashboards": [],
   "environmentMetadata": {
    "base_environment": "",
    "environment_version": "2"
   },
   "inputWidgetPreferences": null,
   "language": "python",
   "notebookMetadata": {
    "pythonIndentUnit": 2
   },
   "notebookName": "generate_customer_reviews",
   "widgets": {}
  },
  "language_info": {
   "name": "python"
  }
 },
 "nbformat": 4,
 "nbformat_minor": 0
}
