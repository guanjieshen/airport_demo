{
 "cells": [
  {
   "cell_type": "code",
   "execution_count": 0,
   "metadata": {
    "application/vnd.databricks.v1+cell": {
     "cellMetadata": {
      "byteLimit": 10485760,
      "rowLimit": 1000
     },
     "inputWidgets": {},
     "nuid": "aaa4899a-b801-4207-8356-0195209af364",
     "showTitle": false,
     "tableResultSettingsMap": {},
     "title": ""
    }
   },
   "outputs": [],
   "source": [
    "-- Create schema for bronze level data if it does not exist\n",
    "CREATE SCHEMA IF NOT EXISTS gshen_eia_catalog.eia_bronze;\n",
    "\n",
    "-- Create schema for silver level data if it does not exist\n",
    "CREATE SCHEMA IF NOT EXISTS gshen_eia_catalog.eia_silver;\n",
    "\n",
    "-- Create schema for gold level data if it does not exist\n",
    "CREATE SCHEMA IF NOT EXISTS gshen_eia_catalog.eia_gold;"
   ]
  }
 ],
 "metadata": {
  "application/vnd.databricks.v1+notebook": {
   "computePreferences": null,
   "dashboards": [],
   "environmentMetadata": null,
   "inputWidgetPreferences": null,
   "language": "sql",
   "notebookMetadata": {
    "sqlQueryOptions": {
     "applyAutoLimit": true,
     "catalog": "default",
     "schema": "default"
    }
   },
   "notebookName": "Schema DDLs.dbquery.ipynb",
   "widgets": {}
  },
  "language_info": {
   "name": "sql"
  }
 },
 "nbformat": 4,
 "nbformat_minor": 0
}
