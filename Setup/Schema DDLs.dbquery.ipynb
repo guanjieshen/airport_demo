{
 "cells": [
  {
   "cell_type": "code",
   "execution_count": 0,
   "metadata": {
    "application/vnd.databricks.v1+cell": {
     "cellMetadata": {},
     "inputWidgets": {},
     "nuid": "aaa4899a-b801-4207-8356-0195209af364",
     "showTitle": false,
     "tableResultSettingsMap": {},
     "title": ""
    }
   },
   "outputs": [],
   "source": [
    "CREATE SCHEMA IF NOT EXISTS gshen_catalog.bronze_eia;\n",
    "CREATE SCHEMA IF NOT EXISTS gshen_catalog.silver_eia;\n",
    "CREATE SCHEMA IF NOT EXISTS gshen_catalog.gold_eia;"
   ]
  }
 ],
 "metadata": {
  "application/vnd.databricks.v1+notebook": {
   "computePreferences": null,
   "dashboards": [],
   "environmentMetadata": null,
   "language": "sql",
   "notebookMetadata": {
    "sqlQueryOptions": {
     "applyAutoLimit": true,
     "catalog": "default",
     "schema": "default"
    }
   },
   "notebookName": "Schema DDLs.dbquery.ipynb",
   "widgets": {}
  },
  "language_info": {
   "name": "sql"
  }
 },
 "nbformat": 4,
 "nbformat_minor": 0
}
